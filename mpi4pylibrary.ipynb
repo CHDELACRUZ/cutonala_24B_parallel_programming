{
  "nbformat": 4,
  "nbformat_minor": 0,
  "metadata": {
    "colab": {
      "provenance": []
    },
    "kernelspec": {
      "name": "python3",
      "display_name": "Python 3"
    },
    "language_info": {
      "name": "python"
    }
  },
  "cells": [
    {
      "cell_type": "markdown",
      "source": [
        "**Point-to-Point Communication**"
      ],
      "metadata": {
        "id": "xy_rBe8bNO_S"
      }
    },
    {
      "cell_type": "markdown",
      "source": [
        "Python objects (pickle under the hood)"
      ],
      "metadata": {
        "id": "wJzPRE4qbo_g"
      }
    },
    {
      "cell_type": "code",
      "execution_count": null,
      "metadata": {
        "colab": {
          "base_uri": "https://localhost:8080/"
        },
        "collapsed": true,
        "id": "rv3yY7PKMZo_",
        "outputId": "ed0bfa62-60b7-442e-fea8-666d20921baa"
      },
      "outputs": [
        {
          "output_type": "stream",
          "name": "stdout",
          "text": [
            "Overwriting python-objects-pickle-under-the-hood.py\n"
          ]
        }
      ],
      "source": [
        "%%writefile python-objects-pickle-under-the-hood.py\n",
        "from mpi4py import MPI\n",
        "\n",
        "comm = MPI.COMM_WORLD\n",
        "rank = comm.Get_rank()\n",
        "\n",
        "if rank == 0:\n",
        "    data = {'a': 7, 'b': 3.14}\n",
        "    comm.send(data, dest=1, tag=11)\n",
        "elif rank == 1:\n",
        "    data = comm.recv(source=0, tag=11)\n",
        "    print(f\"Rank 1 received data: {data}\")\n",
        "\n",
        "!mpirun -n 4 python-objects-pickle-under-the-hood.py\n",
        "\n"
      ]
    },
    {
      "cell_type": "markdown",
      "source": [
        "Python objects with non-blocking communication"
      ],
      "metadata": {
        "id": "hhGnVvItbquD"
      }
    },
    {
      "cell_type": "code",
      "source": [
        "%%writefile python-objects-with-non-blocking-communication.py\n",
        "from mpi4py import MPI\n",
        "\n",
        "comm = MPI.COMM_WORLD\n",
        "rank = comm.Get_rank()\n",
        "\n",
        "if rank == 0:\n",
        "    data = {'a': 7, 'b': 3.14}\n",
        "    req = comm.isend(data, dest=1, tag=11)\n",
        "    req.wait()\n",
        "elif rank == 1:\n",
        "    req = comm.irecv(source=0, tag=11)\n",
        "    data = req.wait()\n",
        "\n",
        "    !mpirun -n 2 python-objects-with-non-blocking-communication.py"
      ],
      "metadata": {
        "colab": {
          "base_uri": "https://localhost:8080/"
        },
        "id": "mbkuetIYRDl-",
        "outputId": "03817043-fb50-484d-bf7a-f26bab18102b"
      },
      "execution_count": null,
      "outputs": [
        {
          "output_type": "stream",
          "name": "stdout",
          "text": [
            "Overwriting python-objects-with-non-blocking-communication.py\n"
          ]
        }
      ]
    },
    {
      "cell_type": "markdown",
      "source": [
        "NumPy arrays (the fast way!)"
      ],
      "metadata": {
        "id": "V8GjnAFfbtFZ"
      }
    },
    {
      "cell_type": "code",
      "source": [
        "%%writefile numPy-arrays-the-fast-way!.py\n",
        "from mpi4py import MPI\n",
        "import numpy\n",
        "\n",
        "comm = MPI.COMM_WORLD\n",
        "rank = comm.Get_rank()\n",
        "\n",
        "# passing MPI datatypes explicitly\n",
        "if rank == 0:\n",
        "    data = numpy.arange(1000, dtype='i')\n",
        "    comm.Send([data, MPI.INT], dest=1, tag=77)\n",
        "elif rank == 1:\n",
        "    data = numpy.empty(1000, dtype='i')\n",
        "    comm.Recv([data, MPI.INT], source=0, tag=77)\n",
        "\n",
        "# automatic MPI datatype discovery\n",
        "if rank == 0:\n",
        "    data = numpy.arange(100, dtype=numpy.float64)\n",
        "    comm.Send(data, dest=1, tag=13)\n",
        "elif rank == 1:\n",
        "    data = numpy.empty(100, dtype=numpy.float64)\n",
        "    comm.Recv(data, source=0, tag=13)\n",
        "\n",
        "    !mpirun -n 2 numPy-arrays-the-fast-way!.py"
      ],
      "metadata": {
        "colab": {
          "base_uri": "https://localhost:8080/"
        },
        "id": "gk6GcT42Tcgf",
        "outputId": "d891dc03-baee-4800-a66d-109c8290cd7b"
      },
      "execution_count": null,
      "outputs": [
        {
          "output_type": "stream",
          "name": "stdout",
          "text": [
            "Overwriting numPy-arrays-the-fast-way!.py\n"
          ]
        }
      ]
    },
    {
      "cell_type": "markdown",
      "source": [
        "**Collective Communication**"
      ],
      "metadata": {
        "id": "FmxY606LNaaS"
      }
    },
    {
      "cell_type": "markdown",
      "source": [
        "Broadcasting a Python dictionary"
      ],
      "metadata": {
        "id": "gPxe6ZfyUoKH"
      }
    },
    {
      "cell_type": "code",
      "source": [
        "%%writefile Broadcasting-a-python-dictionary.py\n",
        "from mpi4py import MPI\n",
        "\n",
        "comm = MPI.COMM_WORLD\n",
        "rank = comm.Get_rank()\n",
        "\n",
        "if rank == 0:\n",
        "    data = {'key1' : [7, 2.72, 2+3j],\n",
        "            'key2' : ( 'abc', 'xyz')}\n",
        "else:\n",
        "    data = None\n",
        "data = comm.bcast(data, root=0)\n",
        "!mpirun -n 2 Broadcasting-a-python-dictionary.py"
      ],
      "metadata": {
        "id": "4TOVj_lRM73s"
      },
      "execution_count": null,
      "outputs": []
    },
    {
      "cell_type": "markdown",
      "source": [
        "Scattering Python objects"
      ],
      "metadata": {
        "id": "oKAdlPf1Ur0S"
      }
    },
    {
      "cell_type": "code",
      "source": [
        "%%writefile scattering-python-objects.py\n",
        "from mpi4py import MPI\n",
        "\n",
        "comm = MPI.COMM_WORLD\n",
        "size = comm.Get_size()\n",
        "rank = comm.Get_rank()\n",
        "\n",
        "if rank == 0:\n",
        "    data = [(i+1)**2 for i in range(size)]\n",
        "else:\n",
        "    data = None\n",
        "data = comm.scatter(data, root=0)\n",
        "assert data == (rank+1)**2\n",
        "\n",
        "!mpirun -n 2 scattering-python-objects.py"
      ],
      "metadata": {
        "id": "xwt_TV9QUhAg"
      },
      "execution_count": null,
      "outputs": []
    },
    {
      "cell_type": "markdown",
      "source": [
        "Gathering Python objects"
      ],
      "metadata": {
        "id": "f-HwbV-qUuCf"
      }
    },
    {
      "cell_type": "code",
      "source": [
        "%%writefile gathering-python-objects.py\n",
        "from mpi4py import MPI\n",
        "\n",
        "comm = MPI.COMM_WORLD\n",
        "size = comm.Get_size()\n",
        "rank = comm.Get_rank()\n",
        "\n",
        "data = (rank+1)**2\n",
        "data = comm.gather(data, root=0)\n",
        "if rank == 0:\n",
        "    for i in range(size):\n",
        "        assert data[i] == (i+1)**2\n",
        "else:\n",
        "    assert data is None\n",
        "\n",
        "    !mpirun -n 2 gathering-python-objects.py"
      ],
      "metadata": {
        "id": "ZhHrPigJU1QJ"
      },
      "execution_count": null,
      "outputs": []
    },
    {
      "cell_type": "markdown",
      "source": [
        "Broadcasting a NumPy array"
      ],
      "metadata": {
        "id": "jm7OpzksU3wt"
      }
    },
    {
      "cell_type": "code",
      "source": [
        "%%writefile broadcasting-a-numpy-array.py\n",
        "from mpi4py import MPI\n",
        "import numpy as np\n",
        "\n",
        "comm = MPI.COMM_WORLD\n",
        "rank = comm.Get_rank()\n",
        "\n",
        "if rank == 0:\n",
        "    data = np.arange(100, dtype='i')\n",
        "else:\n",
        "    data = np.empty(100, dtype='i')\n",
        "comm.Bcast(data, root=0)\n",
        "for i in range(100):\n",
        "    assert data[i] == i\n",
        "\n",
        "!mpirun -n 2 broadcasting-a-numpy-array.py"
      ],
      "metadata": {
        "id": "XN7uVYYpU66n"
      },
      "execution_count": null,
      "outputs": []
    },
    {
      "cell_type": "markdown",
      "source": [
        "Scattering NumPy arrays"
      ],
      "metadata": {
        "id": "d8qbaLSDU8Rn"
      }
    },
    {
      "cell_type": "code",
      "source": [
        "%%writefile scattering-numpy-arrays.py\n",
        "from mpi4py import MPI\n",
        "import numpy as np\n",
        "\n",
        "comm = MPI.COMM_WORLD\n",
        "size = comm.Get_size()\n",
        "rank = comm.Get_rank()\n",
        "\n",
        "sendbuf = None\n",
        "if rank == 0:\n",
        "    sendbuf = np.empty([size, 100], dtype='i')\n",
        "    sendbuf.T[:,:] = range(size)\n",
        "recvbuf = np.empty(100, dtype='i')\n",
        "comm.Scatter(sendbuf, recvbuf, root=0)\n",
        "assert np.allclose(recvbuf, rank)\n",
        "\n",
        "!mpirun -n 2 scattering-numpy-arrays.py"
      ],
      "metadata": {
        "id": "My3zYadJV7JJ"
      },
      "execution_count": null,
      "outputs": []
    },
    {
      "cell_type": "markdown",
      "source": [
        "Gathering NumPy arrays"
      ],
      "metadata": {
        "id": "VmiC3YdTVAlD"
      }
    },
    {
      "cell_type": "code",
      "source": [
        "%%writefile gathering-numpy-arrays.py\n",
        "from mpi4py import MPI\n",
        "import numpy as np\n",
        "\n",
        "comm = MPI.COMM_WORLD\n",
        "size = comm.Get_size()\n",
        "rank = comm.Get_rank()\n",
        "\n",
        "sendbuf = np.zeros(100, dtype='i') + rank\n",
        "recvbuf = None\n",
        "if rank == 0:\n",
        "    recvbuf = np.empty([size, 100], dtype='i')\n",
        "comm.Gather(sendbuf, recvbuf, root=0)\n",
        "if rank == 0:\n",
        "    for i in range(size):\n",
        "        assert np.allclose(recvbuf[i,:], i)\n",
        "\n",
        "        !mpirun -n 2 gathering-numpy-arrays.py"
      ],
      "metadata": {
        "id": "2SjmEXZ8VDRt"
      },
      "execution_count": null,
      "outputs": []
    },
    {
      "cell_type": "markdown",
      "source": [
        "Parallel matrix-vector product"
      ],
      "metadata": {
        "id": "5nxLPWEIVIPX"
      }
    },
    {
      "cell_type": "code",
      "source": [
        "%%writefile parallel-matrix-vector-product.py\n",
        "from mpi4py import MPI\n",
        "import numpy\n",
        "\n",
        "def matvec(comm, A, x):\n",
        "    m = A.shape[0] # local rows\n",
        "    p = comm.Get_size()\n",
        "    xg = numpy.zeros(m*p, dtype='d')\n",
        "    comm.Allgather([x,  MPI.DOUBLE],\n",
        "                   [xg, MPI.DOUBLE])\n",
        "    y = numpy.dot(A, xg)\n",
        "    return y\n",
        "\n",
        "    !mpirun -n 2 parallel-matrix-vector-product.py"
      ],
      "metadata": {
        "colab": {
          "base_uri": "https://localhost:8080/"
        },
        "id": "KcFrb83HVJDd",
        "outputId": "bbb26d9f-3f15-4838-9ebc-6b1d8873221f"
      },
      "execution_count": null,
      "outputs": [
        {
          "output_type": "stream",
          "name": "stdout",
          "text": [
            "Writing parallel-matrix-vector-product.py\n"
          ]
        }
      ]
    }
  ]
}